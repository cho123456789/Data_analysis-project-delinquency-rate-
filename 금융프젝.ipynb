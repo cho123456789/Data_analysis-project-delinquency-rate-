{
 "cells": [
  {
   "cell_type": "code",
   "execution_count": 108,
   "id": "4a62bd32-15cb-4fbf-a648-8912b7306166",
   "metadata": {},
   "outputs": [],
   "source": [
    "import pandas as pd\n",
    "import numpy as np\n",
    "import matplotlib\n",
    "matplotlib.rc(\"font\", family = \"Malgun Gothic\")\n",
    "matplotlib.rc(\"axes\",unicode_minus = False)"
   ]
  },
  {
   "cell_type": "code",
   "execution_count": 7,
   "id": "7e2e51ca-b02c-45b5-bc96-744ab00eff58",
   "metadata": {},
   "outputs": [
    {
     "data": {
      "text/html": [
       "<div>\n",
       "<style scoped>\n",
       "    .dataframe tbody tr th:only-of-type {\n",
       "        vertical-align: middle;\n",
       "    }\n",
       "\n",
       "    .dataframe tbody tr th {\n",
       "        vertical-align: top;\n",
       "    }\n",
       "\n",
       "    .dataframe thead th {\n",
       "        text-align: right;\n",
       "    }\n",
       "</style>\n",
       "<table border=\"1\" class=\"dataframe\">\n",
       "  <thead>\n",
       "    <tr style=\"text-align: right;\">\n",
       "      <th></th>\n",
       "      <th>BAD</th>\n",
       "      <th>LOAN</th>\n",
       "      <th>MORTDUE</th>\n",
       "      <th>VALUE</th>\n",
       "      <th>REASON</th>\n",
       "      <th>JOB</th>\n",
       "      <th>YOJ</th>\n",
       "      <th>DEROG</th>\n",
       "      <th>DELINQ</th>\n",
       "      <th>CLAGE</th>\n",
       "      <th>NINQ</th>\n",
       "      <th>CLNO</th>\n",
       "      <th>DEBTINC</th>\n",
       "    </tr>\n",
       "  </thead>\n",
       "  <tbody>\n",
       "    <tr>\n",
       "      <th>0</th>\n",
       "      <td>1</td>\n",
       "      <td>1700</td>\n",
       "      <td>30548</td>\n",
       "      <td>40320.0</td>\n",
       "      <td>HomeImp</td>\n",
       "      <td>Other</td>\n",
       "      <td>9.0</td>\n",
       "      <td>0</td>\n",
       "      <td>0.0</td>\n",
       "      <td>101.466002</td>\n",
       "      <td>1.0</td>\n",
       "      <td>8</td>\n",
       "      <td>37.113614</td>\n",
       "    </tr>\n",
       "    <tr>\n",
       "      <th>1</th>\n",
       "      <td>1</td>\n",
       "      <td>1800</td>\n",
       "      <td>28502</td>\n",
       "      <td>43034.0</td>\n",
       "      <td>HomeImp</td>\n",
       "      <td>Other</td>\n",
       "      <td>11.0</td>\n",
       "      <td>0</td>\n",
       "      <td>0.0</td>\n",
       "      <td>88.766030</td>\n",
       "      <td>0.0</td>\n",
       "      <td>8</td>\n",
       "      <td>36.884894</td>\n",
       "    </tr>\n",
       "    <tr>\n",
       "      <th>2</th>\n",
       "      <td>0</td>\n",
       "      <td>2300</td>\n",
       "      <td>102370</td>\n",
       "      <td>120953.0</td>\n",
       "      <td>HomeImp</td>\n",
       "      <td>Office</td>\n",
       "      <td>2.0</td>\n",
       "      <td>0</td>\n",
       "      <td>0.0</td>\n",
       "      <td>90.992533</td>\n",
       "      <td>0.0</td>\n",
       "      <td>13</td>\n",
       "      <td>31.588503</td>\n",
       "    </tr>\n",
       "    <tr>\n",
       "      <th>3</th>\n",
       "      <td>1</td>\n",
       "      <td>2400</td>\n",
       "      <td>34863</td>\n",
       "      <td>47471.0</td>\n",
       "      <td>HomeImp</td>\n",
       "      <td>Mgr</td>\n",
       "      <td>12.0</td>\n",
       "      <td>0</td>\n",
       "      <td>0.0</td>\n",
       "      <td>70.491080</td>\n",
       "      <td>1.0</td>\n",
       "      <td>21</td>\n",
       "      <td>38.263601</td>\n",
       "    </tr>\n",
       "    <tr>\n",
       "      <th>4</th>\n",
       "      <td>0</td>\n",
       "      <td>2400</td>\n",
       "      <td>98449</td>\n",
       "      <td>117195.0</td>\n",
       "      <td>HomeImp</td>\n",
       "      <td>Office</td>\n",
       "      <td>4.0</td>\n",
       "      <td>0</td>\n",
       "      <td>0.0</td>\n",
       "      <td>93.811775</td>\n",
       "      <td>0.0</td>\n",
       "      <td>13</td>\n",
       "      <td>29.681827</td>\n",
       "    </tr>\n",
       "    <tr>\n",
       "      <th>...</th>\n",
       "      <td>...</td>\n",
       "      <td>...</td>\n",
       "      <td>...</td>\n",
       "      <td>...</td>\n",
       "      <td>...</td>\n",
       "      <td>...</td>\n",
       "      <td>...</td>\n",
       "      <td>...</td>\n",
       "      <td>...</td>\n",
       "      <td>...</td>\n",
       "      <td>...</td>\n",
       "      <td>...</td>\n",
       "      <td>...</td>\n",
       "    </tr>\n",
       "    <tr>\n",
       "      <th>3743</th>\n",
       "      <td>0</td>\n",
       "      <td>88900</td>\n",
       "      <td>57264</td>\n",
       "      <td>90185.0</td>\n",
       "      <td>DebtCon</td>\n",
       "      <td>Other</td>\n",
       "      <td>16.0</td>\n",
       "      <td>0</td>\n",
       "      <td>0.0</td>\n",
       "      <td>221.808718</td>\n",
       "      <td>0.0</td>\n",
       "      <td>16</td>\n",
       "      <td>36.112347</td>\n",
       "    </tr>\n",
       "    <tr>\n",
       "      <th>3744</th>\n",
       "      <td>0</td>\n",
       "      <td>89000</td>\n",
       "      <td>54576</td>\n",
       "      <td>92937.0</td>\n",
       "      <td>DebtCon</td>\n",
       "      <td>Other</td>\n",
       "      <td>16.0</td>\n",
       "      <td>0</td>\n",
       "      <td>0.0</td>\n",
       "      <td>208.692070</td>\n",
       "      <td>0.0</td>\n",
       "      <td>15</td>\n",
       "      <td>35.859971</td>\n",
       "    </tr>\n",
       "    <tr>\n",
       "      <th>3745</th>\n",
       "      <td>0</td>\n",
       "      <td>89200</td>\n",
       "      <td>54045</td>\n",
       "      <td>92924.0</td>\n",
       "      <td>DebtCon</td>\n",
       "      <td>Other</td>\n",
       "      <td>15.0</td>\n",
       "      <td>0</td>\n",
       "      <td>0.0</td>\n",
       "      <td>212.279697</td>\n",
       "      <td>0.0</td>\n",
       "      <td>15</td>\n",
       "      <td>35.556590</td>\n",
       "    </tr>\n",
       "    <tr>\n",
       "      <th>3746</th>\n",
       "      <td>0</td>\n",
       "      <td>89800</td>\n",
       "      <td>50370</td>\n",
       "      <td>91861.0</td>\n",
       "      <td>DebtCon</td>\n",
       "      <td>Other</td>\n",
       "      <td>14.0</td>\n",
       "      <td>0</td>\n",
       "      <td>0.0</td>\n",
       "      <td>213.892709</td>\n",
       "      <td>0.0</td>\n",
       "      <td>16</td>\n",
       "      <td>34.340882</td>\n",
       "    </tr>\n",
       "    <tr>\n",
       "      <th>3747</th>\n",
       "      <td>0</td>\n",
       "      <td>89900</td>\n",
       "      <td>48811</td>\n",
       "      <td>88934.0</td>\n",
       "      <td>DebtCon</td>\n",
       "      <td>Other</td>\n",
       "      <td>15.0</td>\n",
       "      <td>0</td>\n",
       "      <td>0.0</td>\n",
       "      <td>219.601002</td>\n",
       "      <td>0.0</td>\n",
       "      <td>16</td>\n",
       "      <td>34.571519</td>\n",
       "    </tr>\n",
       "  </tbody>\n",
       "</table>\n",
       "<p>3748 rows × 13 columns</p>\n",
       "</div>"
      ],
      "text/plain": [
       "      BAD   LOAN  MORTDUE     VALUE   REASON     JOB   YOJ  DEROG  DELINQ  \\\n",
       "0       1   1700    30548   40320.0  HomeImp   Other   9.0      0     0.0   \n",
       "1       1   1800    28502   43034.0  HomeImp   Other  11.0      0     0.0   \n",
       "2       0   2300   102370  120953.0  HomeImp  Office   2.0      0     0.0   \n",
       "3       1   2400    34863   47471.0  HomeImp     Mgr  12.0      0     0.0   \n",
       "4       0   2400    98449  117195.0  HomeImp  Office   4.0      0     0.0   \n",
       "...   ...    ...      ...       ...      ...     ...   ...    ...     ...   \n",
       "3743    0  88900    57264   90185.0  DebtCon   Other  16.0      0     0.0   \n",
       "3744    0  89000    54576   92937.0  DebtCon   Other  16.0      0     0.0   \n",
       "3745    0  89200    54045   92924.0  DebtCon   Other  15.0      0     0.0   \n",
       "3746    0  89800    50370   91861.0  DebtCon   Other  14.0      0     0.0   \n",
       "3747    0  89900    48811   88934.0  DebtCon   Other  15.0      0     0.0   \n",
       "\n",
       "           CLAGE  NINQ  CLNO    DEBTINC  \n",
       "0     101.466002   1.0     8  37.113614  \n",
       "1      88.766030   0.0     8  36.884894  \n",
       "2      90.992533   0.0    13  31.588503  \n",
       "3      70.491080   1.0    21  38.263601  \n",
       "4      93.811775   0.0    13  29.681827  \n",
       "...          ...   ...   ...        ...  \n",
       "3743  221.808718   0.0    16  36.112347  \n",
       "3744  208.692070   0.0    15  35.859971  \n",
       "3745  212.279697   0.0    15  35.556590  \n",
       "3746  213.892709   0.0    16  34.340882  \n",
       "3747  219.601002   0.0    16  34.571519  \n",
       "\n",
       "[3748 rows x 13 columns]"
      ]
     },
     "execution_count": 7,
     "metadata": {},
     "output_type": "execute_result"
    }
   ],
   "source": [
    "df1= pd.read_csv('bank.csv')\n",
    "df1"
   ]
  },
  {
   "cell_type": "code",
   "execution_count": null,
   "id": "8b03686a-21d4-4917-a0d7-1778709d5ef2",
   "metadata": {},
   "outputs": [],
   "source": [
    "# bad (y) : 대출상한 여부 0 상환 / 1 미상환\n",
    "# load : 총대출액 \n",
    "# mortdue : 저당액 \n",
    "# value : 재산액 \n",
    "# reason : debtcon(채무정리) , 주택개량(homeimp)\n",
    "# job : mgr( 노동자) , office (사무원) , 숙련기술사 (proexe) , 기타 (other), 판매원 (sales), 자영업 (self)\n",
    "# yoj : 직장근무년수\n",
    "# derog : 불량거래수\n",
    "# debtinc : 대출금 대 수입의 비율\n",
    "# delenq : 체납횟수\n",
    "# clage : 최장 대출기간 \n",
    "# minq : 최근 신용거래 요청 "
   ]
  },
  {
   "cell_type": "markdown",
   "id": "b7d10904-ac25-4942-b461-441327accd39",
   "metadata": {},
   "source": [
    "# 결측치 확인 "
   ]
  },
  {
   "cell_type": "code",
   "execution_count": 8,
   "id": "e121fce2-24cd-4561-960b-6c3e0d1e3ccf",
   "metadata": {},
   "outputs": [
    {
     "data": {
      "text/plain": [
       "BAD          0\n",
       "LOAN         0\n",
       "MORTDUE      0\n",
       "VALUE       14\n",
       "REASON       0\n",
       "JOB         81\n",
       "YOJ        205\n",
       "DEROG        0\n",
       "DELINQ      30\n",
       "CLAGE       37\n",
       "NINQ        56\n",
       "CLNO         0\n",
       "DEBTINC      0\n",
       "dtype: int64"
      ]
     },
     "execution_count": 8,
     "metadata": {},
     "output_type": "execute_result"
    }
   ],
   "source": [
    "df1.isnull().sum()"
   ]
  },
  {
   "cell_type": "code",
   "execution_count": 14,
   "id": "f5940b5d-1ee9-4a08-b91e-1084f5a186b7",
   "metadata": {},
   "outputs": [
    {
     "data": {
      "text/plain": [
       "3748"
      ]
     },
     "execution_count": 14,
     "metadata": {},
     "output_type": "execute_result"
    }
   ],
   "source": [
    "len(df1['VALUE'])"
   ]
  },
  {
   "cell_type": "code",
   "execution_count": 32,
   "id": "1a23f4ea-2d51-4b72-a99f-e7f47bce02e6",
   "metadata": {},
   "outputs": [
    {
     "name": "stdout",
     "output_type": "stream",
     "text": [
      "전체 VALUE 데이터 3748\n",
      "Value 결측치 : 14\n",
      "\n",
      "\n",
      "전체 JOB 데이터 3748\n",
      "JOB 결측치 : 81\n",
      "\n",
      "\n",
      "전체 YOJ 데이터 3748\n",
      "YOJ 결측치 : 205\n",
      "\n",
      "\n",
      "전체 DELINQ 데이터 3748\n",
      "DELINQ 결측치 : 30\n",
      "\n",
      "\n",
      "전체 CLAGE 데이터 3748\n",
      "CLAGE 결측치 : 37\n",
      "\n",
      "\n",
      "전체 NINQ 데이터 3748\n",
      "NINQ 결측치 : 56\n"
     ]
    }
   ],
   "source": [
    "print(\"전체 VALUE 데이터\",len(df1['VALUE']))\n",
    "missing_value_rows = df1[df1['VALUE'].isnull()]\n",
    "print(\"Value 결측치 :\",len(missing_value_rows))\n",
    "print(\"\\n\")\n",
    "print(\"전체 JOB 데이터\",len(df1['JOB']))\n",
    "missing_value_rows = df1[df1['JOB'].isnull()]\n",
    "print(\"JOB 결측치 :\",len(missing_value_rows))\n",
    "print(\"\\n\")\n",
    "print(\"전체 YOJ 데이터\",len(df1['YOJ']))\n",
    "missing_value_rows = df1[df1['YOJ'].isnull()]\n",
    "print(\"YOJ 결측치 :\",len(missing_value_rows))\n",
    "print(\"\\n\")\n",
    "print(\"전체 DELINQ 데이터\",len(df1['DELINQ']))\n",
    "missing_value_rows = df1[df1['DELINQ'].isnull()]\n",
    "print(\"DELINQ 결측치 :\",len(missing_value_rows))\n",
    "print(\"\\n\")\n",
    "print(\"전체 CLAGE 데이터\",len(df1['CLAGE']))\n",
    "missing_value_rows = df1[df1['CLAGE'].isnull()]\n",
    "print(\"CLAGE 결측치 :\",len(missing_value_rows))\n",
    "print(\"\\n\")\n",
    "print(\"전체 NINQ 데이터\",len(df1['NINQ']))\n",
    "missing_value_rows = df1[df1['NINQ'].isnull()]\n",
    "print(\"NINQ 결측치 :\",len(missing_value_rows))"
   ]
  },
  {
   "cell_type": "markdown",
   "id": "c0bbb108-bc78-4de7-84e9-ecd3436f8033",
   "metadata": {},
   "source": [
    "## 결측치에 해당하는 행에 결측치 비율을 구해본 결과 10% 미만이므로 제거하는 방향으로 진행"
   ]
  },
  {
   "cell_type": "code",
   "execution_count": 33,
   "id": "4051b9f8-e6cf-4b52-aa98-81b7759a9375",
   "metadata": {},
   "outputs": [],
   "source": [
    "df1.dropna(inplace =True)"
   ]
  },
  {
   "cell_type": "code",
   "execution_count": 36,
   "id": "5c76a813-1824-4074-b74e-da4476cd4740",
   "metadata": {},
   "outputs": [
    {
     "data": {
      "text/plain": [
       "BAD        0\n",
       "LOAN       0\n",
       "MORTDUE    0\n",
       "VALUE      0\n",
       "REASON     0\n",
       "JOB        0\n",
       "YOJ        0\n",
       "DEROG      0\n",
       "DELINQ     0\n",
       "CLAGE      0\n",
       "NINQ       0\n",
       "CLNO       0\n",
       "DEBTINC    0\n",
       "dtype: int64"
      ]
     },
     "execution_count": 36,
     "metadata": {},
     "output_type": "execute_result"
    }
   ],
   "source": [
    "df1.isnull().sum()"
   ]
  },
  {
   "cell_type": "markdown",
   "id": "91377ebf-4270-44a1-aa11-0e576cdfac42",
   "metadata": {},
   "source": [
    "## 이상치 확인"
   ]
  },
  {
   "cell_type": "code",
   "execution_count": 41,
   "id": "b1545a7c-356f-4214-bc6a-9a5f9d8b30be",
   "metadata": {},
   "outputs": [
    {
     "data": {
      "image/png": "[encoded data removed]",
      "text/plain": [
       "<Figure size 1200x800 with 1 Axes>"
      ]
     },
     "metadata": {},
     "output_type": "display_data"
    }
   ],
   "source": [
    "import seaborn as sns\n",
    "import matplotlib.pyplot as plt\n",
    "\n",
    "# 분석할 컬럼 선택\n",
    "columns_to_plot = ['BAD', 'LOAN', 'MORTDUE', 'VALUE', 'REASON', 'JOB', 'YOJ', \n",
    "                   'DEROG', 'DELINQ', 'CLAGE', 'NINQ', 'CLNO', 'DEBTINC']\n",
    "\n",
    "# 데이터에서 해당 컬럼 선택\n",
    "df_subset = df1[columns_to_plot]\n",
    "\n",
    "# 박스플롯 그리기\n",
    "plt.figure(figsize=(12, 8))\n",
    "sns.boxplot(data=df_subset)\n",
    "\n",
    "# 그래프 제목과 라벨 설정\n",
    "plt.title('Boxplot of Selected Columns', fontsize=16)\n",
    "plt.xticks(rotation=90)  # x축 레이블이 잘 보이도록 회전\n",
    "plt.xlabel('Columns', fontsize=12)\n",
    "plt.ylabel('Values', fontsize=12)\n",
    "\n",
    "# 그래프 표시\n",
    "plt.show()"
   ]
  },
  {
   "cell_type": "markdown",
   "id": "5483439e-8380-484d-b1c8-2196ee07f69c",
   "metadata": {},
   "source": [
    "# boxplot으로 이상치 확인 후 도메인 지식을 통한 이상치 제거"
   ]
  },
  {
   "cell_type": "code",
   "execution_count": 48,
   "id": "fd9e9306-5d4b-471b-8f00-c15facc5d092",
   "metadata": {},
   "outputs": [
    {
     "data": {
      "text/html": [
       "<div>\n",
       "<style scoped>\n",
       "    .dataframe tbody tr th:only-of-type {\n",
       "        vertical-align: middle;\n",
       "    }\n",
       "\n",
       "    .dataframe tbody tr th {\n",
       "        vertical-align: top;\n",
       "    }\n",
       "\n",
       "    .dataframe thead th {\n",
       "        text-align: right;\n",
       "    }\n",
       "</style>\n",
       "<table border=\"1\" class=\"dataframe\">\n",
       "  <thead>\n",
       "    <tr style=\"text-align: right;\">\n",
       "      <th></th>\n",
       "      <th>BAD</th>\n",
       "      <th>LOAN</th>\n",
       "      <th>MORTDUE</th>\n",
       "      <th>VALUE</th>\n",
       "      <th>REASON</th>\n",
       "      <th>JOB</th>\n",
       "      <th>YOJ</th>\n",
       "      <th>DEROG</th>\n",
       "      <th>DELINQ</th>\n",
       "      <th>CLAGE</th>\n",
       "      <th>NINQ</th>\n",
       "      <th>CLNO</th>\n",
       "      <th>DEBTINC</th>\n",
       "    </tr>\n",
       "  </thead>\n",
       "  <tbody>\n",
       "    <tr>\n",
       "      <th>2247</th>\n",
       "      <td>1</td>\n",
       "      <td>19300</td>\n",
       "      <td>96454</td>\n",
       "      <td>157809.0</td>\n",
       "      <td>DebtCon</td>\n",
       "      <td>Other</td>\n",
       "      <td>3.0</td>\n",
       "      <td>0</td>\n",
       "      <td>0.0</td>\n",
       "      <td>1168.233561</td>\n",
       "      <td>0.0</td>\n",
       "      <td>0</td>\n",
       "      <td>40.206138</td>\n",
       "    </tr>\n",
       "  </tbody>\n",
       "</table>\n",
       "</div>"
      ],
      "text/plain": [
       "      BAD   LOAN  MORTDUE     VALUE   REASON    JOB  YOJ  DEROG  DELINQ  \\\n",
       "2247    1  19300    96454  157809.0  DebtCon  Other  3.0      0     0.0   \n",
       "\n",
       "            CLAGE  NINQ  CLNO    DEBTINC  \n",
       "2247  1168.233561   0.0     0  40.206138  "
      ]
     },
     "execution_count": 48,
     "metadata": {},
     "output_type": "execute_result"
    }
   ],
   "source": [
    "df1[df1['CLAGE'] > 1000] # 1000월이상은 나올수없는값이라고 판단하여 제거"
   ]
  },
  {
   "cell_type": "code",
   "execution_count": 49,
   "id": "b22d04f6-9bed-48d4-b1b8-949ece7b0320",
   "metadata": {},
   "outputs": [
    {
     "data": {
      "text/html": [
       "<div>\n",
       "<style scoped>\n",
       "    .dataframe tbody tr th:only-of-type {\n",
       "        vertical-align: middle;\n",
       "    }\n",
       "\n",
       "    .dataframe tbody tr th {\n",
       "        vertical-align: top;\n",
       "    }\n",
       "\n",
       "    .dataframe thead th {\n",
       "        text-align: right;\n",
       "    }\n",
       "</style>\n",
       "<table border=\"1\" class=\"dataframe\">\n",
       "  <thead>\n",
       "    <tr style=\"text-align: right;\">\n",
       "      <th></th>\n",
       "      <th>BAD</th>\n",
       "      <th>LOAN</th>\n",
       "      <th>MORTDUE</th>\n",
       "      <th>VALUE</th>\n",
       "      <th>REASON</th>\n",
       "      <th>JOB</th>\n",
       "      <th>YOJ</th>\n",
       "      <th>DEROG</th>\n",
       "      <th>DELINQ</th>\n",
       "      <th>CLAGE</th>\n",
       "      <th>NINQ</th>\n",
       "      <th>CLNO</th>\n",
       "      <th>DEBTINC</th>\n",
       "    </tr>\n",
       "  </thead>\n",
       "  <tbody>\n",
       "    <tr>\n",
       "      <th>0</th>\n",
       "      <td>1</td>\n",
       "      <td>1700</td>\n",
       "      <td>30548</td>\n",
       "      <td>40320.0</td>\n",
       "      <td>HomeImp</td>\n",
       "      <td>Other</td>\n",
       "      <td>9.0</td>\n",
       "      <td>0</td>\n",
       "      <td>0.0</td>\n",
       "      <td>101.466002</td>\n",
       "      <td>1.0</td>\n",
       "      <td>8</td>\n",
       "      <td>37.113614</td>\n",
       "    </tr>\n",
       "    <tr>\n",
       "      <th>1</th>\n",
       "      <td>1</td>\n",
       "      <td>1800</td>\n",
       "      <td>28502</td>\n",
       "      <td>43034.0</td>\n",
       "      <td>HomeImp</td>\n",
       "      <td>Other</td>\n",
       "      <td>11.0</td>\n",
       "      <td>0</td>\n",
       "      <td>0.0</td>\n",
       "      <td>88.766030</td>\n",
       "      <td>0.0</td>\n",
       "      <td>8</td>\n",
       "      <td>36.884894</td>\n",
       "    </tr>\n",
       "    <tr>\n",
       "      <th>2</th>\n",
       "      <td>0</td>\n",
       "      <td>2300</td>\n",
       "      <td>102370</td>\n",
       "      <td>120953.0</td>\n",
       "      <td>HomeImp</td>\n",
       "      <td>Office</td>\n",
       "      <td>2.0</td>\n",
       "      <td>0</td>\n",
       "      <td>0.0</td>\n",
       "      <td>90.992533</td>\n",
       "      <td>0.0</td>\n",
       "      <td>13</td>\n",
       "      <td>31.588503</td>\n",
       "    </tr>\n",
       "    <tr>\n",
       "      <th>3</th>\n",
       "      <td>1</td>\n",
       "      <td>2400</td>\n",
       "      <td>34863</td>\n",
       "      <td>47471.0</td>\n",
       "      <td>HomeImp</td>\n",
       "      <td>Mgr</td>\n",
       "      <td>12.0</td>\n",
       "      <td>0</td>\n",
       "      <td>0.0</td>\n",
       "      <td>70.491080</td>\n",
       "      <td>1.0</td>\n",
       "      <td>21</td>\n",
       "      <td>38.263601</td>\n",
       "    </tr>\n",
       "    <tr>\n",
       "      <th>4</th>\n",
       "      <td>0</td>\n",
       "      <td>2400</td>\n",
       "      <td>98449</td>\n",
       "      <td>117195.0</td>\n",
       "      <td>HomeImp</td>\n",
       "      <td>Office</td>\n",
       "      <td>4.0</td>\n",
       "      <td>0</td>\n",
       "      <td>0.0</td>\n",
       "      <td>93.811775</td>\n",
       "      <td>0.0</td>\n",
       "      <td>13</td>\n",
       "      <td>29.681827</td>\n",
       "    </tr>\n",
       "    <tr>\n",
       "      <th>...</th>\n",
       "      <td>...</td>\n",
       "      <td>...</td>\n",
       "      <td>...</td>\n",
       "      <td>...</td>\n",
       "      <td>...</td>\n",
       "      <td>...</td>\n",
       "      <td>...</td>\n",
       "      <td>...</td>\n",
       "      <td>...</td>\n",
       "      <td>...</td>\n",
       "      <td>...</td>\n",
       "      <td>...</td>\n",
       "      <td>...</td>\n",
       "    </tr>\n",
       "    <tr>\n",
       "      <th>3743</th>\n",
       "      <td>0</td>\n",
       "      <td>88900</td>\n",
       "      <td>57264</td>\n",
       "      <td>90185.0</td>\n",
       "      <td>DebtCon</td>\n",
       "      <td>Other</td>\n",
       "      <td>16.0</td>\n",
       "      <td>0</td>\n",
       "      <td>0.0</td>\n",
       "      <td>221.808718</td>\n",
       "      <td>0.0</td>\n",
       "      <td>16</td>\n",
       "      <td>36.112347</td>\n",
       "    </tr>\n",
       "    <tr>\n",
       "      <th>3744</th>\n",
       "      <td>0</td>\n",
       "      <td>89000</td>\n",
       "      <td>54576</td>\n",
       "      <td>92937.0</td>\n",
       "      <td>DebtCon</td>\n",
       "      <td>Other</td>\n",
       "      <td>16.0</td>\n",
       "      <td>0</td>\n",
       "      <td>0.0</td>\n",
       "      <td>208.692070</td>\n",
       "      <td>0.0</td>\n",
       "      <td>15</td>\n",
       "      <td>35.859971</td>\n",
       "    </tr>\n",
       "    <tr>\n",
       "      <th>3745</th>\n",
       "      <td>0</td>\n",
       "      <td>89200</td>\n",
       "      <td>54045</td>\n",
       "      <td>92924.0</td>\n",
       "      <td>DebtCon</td>\n",
       "      <td>Other</td>\n",
       "      <td>15.0</td>\n",
       "      <td>0</td>\n",
       "      <td>0.0</td>\n",
       "      <td>212.279697</td>\n",
       "      <td>0.0</td>\n",
       "      <td>15</td>\n",
       "      <td>35.556590</td>\n",
       "    </tr>\n",
       "    <tr>\n",
       "      <th>3746</th>\n",
       "      <td>0</td>\n",
       "      <td>89800</td>\n",
       "      <td>50370</td>\n",
       "      <td>91861.0</td>\n",
       "      <td>DebtCon</td>\n",
       "      <td>Other</td>\n",
       "      <td>14.0</td>\n",
       "      <td>0</td>\n",
       "      <td>0.0</td>\n",
       "      <td>213.892709</td>\n",
       "      <td>0.0</td>\n",
       "      <td>16</td>\n",
       "      <td>34.340882</td>\n",
       "    </tr>\n",
       "    <tr>\n",
       "      <th>3747</th>\n",
       "      <td>0</td>\n",
       "      <td>89900</td>\n",
       "      <td>48811</td>\n",
       "      <td>88934.0</td>\n",
       "      <td>DebtCon</td>\n",
       "      <td>Other</td>\n",
       "      <td>15.0</td>\n",
       "      <td>0</td>\n",
       "      <td>0.0</td>\n",
       "      <td>219.601002</td>\n",
       "      <td>0.0</td>\n",
       "      <td>16</td>\n",
       "      <td>34.571519</td>\n",
       "    </tr>\n",
       "  </tbody>\n",
       "</table>\n",
       "<p>3363 rows × 13 columns</p>\n",
       "</div>"
      ],
      "text/plain": [
       "      BAD   LOAN  MORTDUE     VALUE   REASON     JOB   YOJ  DEROG  DELINQ  \\\n",
       "0       1   1700    30548   40320.0  HomeImp   Other   9.0      0     0.0   \n",
       "1       1   1800    28502   43034.0  HomeImp   Other  11.0      0     0.0   \n",
       "2       0   2300   102370  120953.0  HomeImp  Office   2.0      0     0.0   \n",
       "3       1   2400    34863   47471.0  HomeImp     Mgr  12.0      0     0.0   \n",
       "4       0   2400    98449  117195.0  HomeImp  Office   4.0      0     0.0   \n",
       "...   ...    ...      ...       ...      ...     ...   ...    ...     ...   \n",
       "3743    0  88900    57264   90185.0  DebtCon   Other  16.0      0     0.0   \n",
       "3744    0  89000    54576   92937.0  DebtCon   Other  16.0      0     0.0   \n",
       "3745    0  89200    54045   92924.0  DebtCon   Other  15.0      0     0.0   \n",
       "3746    0  89800    50370   91861.0  DebtCon   Other  14.0      0     0.0   \n",
       "3747    0  89900    48811   88934.0  DebtCon   Other  15.0      0     0.0   \n",
       "\n",
       "           CLAGE  NINQ  CLNO    DEBTINC  \n",
       "0     101.466002   1.0     8  37.113614  \n",
       "1      88.766030   0.0     8  36.884894  \n",
       "2      90.992533   0.0    13  31.588503  \n",
       "3      70.491080   1.0    21  38.263601  \n",
       "4      93.811775   0.0    13  29.681827  \n",
       "...          ...   ...   ...        ...  \n",
       "3743  221.808718   0.0    16  36.112347  \n",
       "3744  208.692070   0.0    15  35.859971  \n",
       "3745  212.279697   0.0    15  35.556590  \n",
       "3746  213.892709   0.0    16  34.340882  \n",
       "3747  219.601002   0.0    16  34.571519  \n",
       "\n",
       "[3363 rows x 13 columns]"
      ]
     },
     "execution_count": 49,
     "metadata": {},
     "output_type": "execute_result"
    }
   ],
   "source": [
    "cond1 = df1['CLAGE'] < 1000\n",
    "df2 = df1.loc[cond1]\n",
    "df2"
   ]
  },
  {
   "cell_type": "markdown",
   "id": "c6ad1d8a-8b86-44b6-be0c-ee62f0840c83",
   "metadata": {},
   "source": [
    "# 대출 상환여부에 따른 영향인자 확인"
   ]
  },
  {
   "cell_type": "code",
   "execution_count": 54,
   "id": "89a0515e-13c9-413e-8e98-aca5b31b3fd8",
   "metadata": {},
   "outputs": [
    {
     "name": "stdout",
     "output_type": "stream",
     "text": [
      "대출액-sample t-test\n",
      "t:1.8140191514554709\n",
      "p:0.06976390935409335\n",
      "상환 여부에 따라 대출액에 차이가 없다.\n"
     ]
    }
   ],
   "source": [
    "from scipy import stats\n",
    "BAD_L = df2[df2['BAD'] == 0]['LOAN']   # 상환  \n",
    "good_L = df2[df2['BAD'] == 1]['LOAN']  # 미상환 \n",
    "\n",
    "# 상환 여부에 따라서 대출액이 차이가 있는가\n",
    "# 귀무가설 : 상환 여부에 따라서 대출액이 차이가 없다 -> 귀무가설 참 => 상환 여부에 따라서 대출액이 차이가 없다\n",
    "# 대립가설 : 상환 여부에 따라서 대출액이 차이가 있다 \n",
    "\n",
    "weight_result= stats.ttest_ind(BAD_L,good_L)\n",
    "t,p = weight_result.statistic, weight_result.pvalue\n",
    "print(\"대출액-sample t-test\")\n",
    "print(\"t:{}\".format(t))\n",
    "print(\"p:{}\".format(p))\n",
    "\n",
    "# 가설 검정\n",
    "alpha = 0.05  # 유의수준 5%\n",
    "\n",
    "if p < alpha:\n",
    "    print(\" 상환 여부에 따라 대출액에 차이가 있다.\")\n",
    "else:\n",
    "    print(\"상환 여부에 따라 대출액에 차이가 없다.\")"
   ]
  },
  {
   "cell_type": "code",
   "execution_count": 57,
   "id": "22e93220-0e60-45c1-9b41-95de09f327b2",
   "metadata": {},
   "outputs": [
    {
     "name": "stdout",
     "output_type": "stream",
     "text": [
      "대출액-sample t-test\n",
      "t:0.9859685569597442\n",
      "p:0.32421951401705373\n",
      "상환 여부에 따라 대출액에 차이가 없다.\n"
     ]
    }
   ],
   "source": [
    "from scipy import stats\n",
    "BAD_L = df2[df2['BAD'] == 0]['MORTDUE']   # 상환  \n",
    "good_L = df2[df2['BAD'] == 1]['MORTDUE']  # 미상환 \n",
    "\n",
    "# 상환 여부에 따라서 대출액이 차이가 있는가\n",
    "# 귀무가설 : 상환 여부에 따라서 대출액이 차이가 없다 -> 귀무가설 참 => 상환 여부에 따라서 대출액이 차이가 없다\n",
    "# 대립가설 : 상환 여부에 따라서 대출액이 차이가 있다 \n",
    "\n",
    "weight_result= stats.ttest_ind(BAD_L,good_L)\n",
    "t,p = weight_result.statistic, weight_result.pvalue\n",
    "print(\"대출액-sample t-test\")\n",
    "print(\"t:{}\".format(t))\n",
    "print(\"p:{}\".format(p))\n",
    "\n",
    "# 가설 검정\n",
    "alpha = 0.05  # 유의수준 5%\n",
    "\n",
    "if p < alpha:\n",
    "    print(\"상환 여부에 따라 저당금액에 차이가 있다.\")\n",
    "else:\n",
    "    print(\"상환 여부에 따라 저당금액에 차이가 없다.\")"
   ]
  },
  {
   "cell_type": "code",
   "execution_count": 66,
   "id": "b5b82843-d6ce-41e6-a4bc-51058019240d",
   "metadata": {},
   "outputs": [
    {
     "name": "stdout",
     "output_type": "stream",
     "text": [
      "대출액-sample t-test\n",
      "t:1.5736066525705128\n",
      "p:0.11567253590276917\n",
      "상환 여부에 따라 재산액에 차이가 없다.\n"
     ]
    }
   ],
   "source": [
    "from scipy import stats\n",
    "BAD_L = df2[df2['BAD'] == 0]['VALUE']   # 상환  \n",
    "good_L = df2[df2['BAD'] == 1]['VALUE']  # 미상환 \n",
    "\n",
    "# 상환 여부에 따라서 대출액이 차이가 있는가\n",
    "# 귀무가설 : 상환 여부에 따라서 대출액이 차이가 없다 -> 귀무가설 참 => 상환 여부에 따라서 대출액이 차이가 없다\n",
    "# 대립가설 : 상환 여부에 따라서 대출액이 차이가 있다 \n",
    "\n",
    "weight_result= stats.ttest_ind(BAD_L,good_L)\n",
    "t,p = weight_result.statistic, weight_result.pvalue\n",
    "print(\"대출액-sample t-test\")\n",
    "print(\"t:{}\".format(t))\n",
    "print(\"p:{}\".format(p))\n",
    "\n",
    "# 가설 검정\n",
    "alpha = 0.05  # 유의수준 5%\n",
    "\n",
    "if p < alpha:\n",
    "    print(\"상환 여부에 따라 재산액에 차이가 있다.\")\n",
    "else:\n",
    "    print(\"상환 여부에 따라 재산액에 차이가 없다.\")"
   ]
  },
  {
   "cell_type": "code",
   "execution_count": 60,
   "id": "b05fa862-85eb-494d-8636-cdfca2de78ab",
   "metadata": {},
   "outputs": [
    {
     "name": "stdout",
     "output_type": "stream",
     "text": [
      "대출액-sample t-test\n",
      "t:3.6956429898394143\n",
      "p:0.0002228281927921398\n",
      "상환 여부에 따라 근무년수에 차이가 있다.\n"
     ]
    }
   ],
   "source": [
    "from scipy import stats\n",
    "BAD_L = df2[df2['BAD'] == 0]['YOJ']   # 상환  \n",
    "good_L = df2[df2['BAD'] == 1]['YOJ']  # 미상환 \n",
    "\n",
    "# 상환 여부에 따라서 대출액이 차이가 있는가\n",
    "# 귀무가설 : 상환 여부에 따라서 대출액이 차이가 없다 -> 귀무가설 참 => 상환 여부에 따라서 대출액이 차이가 없다\n",
    "# 대립가설 : 상환 여부에 따라서 대출액이 차이가 있다 \n",
    "\n",
    "weight_result= stats.ttest_ind(BAD_L,good_L)\n",
    "t,p = weight_result.statistic, weight_result.pvalue\n",
    "print(\"대출액-sample t-test\")\n",
    "print(\"t:{}\".format(t))\n",
    "print(\"p:{}\".format(p))\n",
    "\n",
    "# 가설 검정\n",
    "alpha = 0.05  # 유의수준 5%\n",
    "\n",
    "if p < alpha:\n",
    "    print(\"상환 여부에 따라 근무년수에 차이가 있다.\")\n",
    "else:\n",
    "    print(\"상환 여부에 따라 근무년수에 차이가 없다.\")"
   ]
  },
  {
   "cell_type": "code",
   "execution_count": null,
   "id": "44b586bb-518c-4dee-9945-c8f50069ab84",
   "metadata": {
    "scrolled": true
   },
   "outputs": [],
   "source": [
    "df2['DEROG_flag'] = np.where(df2['DEROG'] == 0, 0, np.where(df2['DEROG'] == 1, 1, 2))  # 불량건수를 0개, 1개 ,2개이상으로 나눈 파생변수 생성\n",
    "df2['DEROG_flag'].value_counts()"
   ]
  },
  {
   "cell_type": "code",
   "execution_count": 74,
   "id": "9641e9c3-bf20-49a9-97aa-7048fc6a0019",
   "metadata": {},
   "outputs": [
    {
     "name": "stdout",
     "output_type": "stream",
     "text": [
      "test statistic : 165.88506614283497, p-value : 9.517339727484051e-37\n",
      "상환 여부에 따라 불량건수에 차이가 있다.\n"
     ]
    }
   ],
   "source": [
    "contingency_table_der = pd.crosstab(df2['BAD'], df2['DEROG_flag'])\n",
    "chi2, p, dof, expected = stats.chi2_contingency(contingency_table_der)\n",
    "print('test statistic : {}, p-value : {}'.format(chi2, p))\n",
    "# 가설 검정\n",
    "alpha = 0.05  # 유의수준 5%\n",
    "\n",
    "if p < alpha:\n",
    "    print(\"상환 여부에 따라 불량건수에 차이가 있다.\")\n",
    "else:\n",
    "    print(\"상환 여부에 따라 불량건수에 차이가 없다.\")"
   ]
  },
  {
   "cell_type": "code",
   "execution_count": 76,
   "id": "2979eb15-b5ab-4ec8-88ab-7f8305f89f77",
   "metadata": {},
   "outputs": [
    {
     "name": "stderr",
     "output_type": "stream",
     "text": [
      "C:\\Users\\dn011\\AppData\\Local\\Temp\\ipykernel_13640\\85377728.py:1: SettingWithCopyWarning: \n",
      "A value is trying to be set on a copy of a slice from a DataFrame.\n",
      "Try using .loc[row_indexer,col_indexer] = value instead\n",
      "\n",
      "See the caveats in the documentation: https://pandas.pydata.org/pandas-docs/stable/user_guide/indexing.html#returning-a-view-versus-a-copy\n",
      "  df2['DELINQ_flag'] = np.where(df2['DELINQ'] == 0, 0, np.where(df2['DELINQ'] == 1, 1, 2))\n"
     ]
    },
    {
     "data": {
      "text/plain": [
       "DELINQ_flag\n",
       "0    2823\n",
       "1     324\n",
       "2     216\n",
       "Name: count, dtype: int64"
      ]
     },
     "execution_count": 76,
     "metadata": {},
     "output_type": "execute_result"
    }
   ],
   "source": [
    "df2['DELINQ_flag'] = np.where(df2['DELINQ'] == 0, 0, np.where(df2['DELINQ'] == 1, 1, 2)) # 미상환횟수를 0건 , 1건 ,2건이상으로 파생변수 생성\n",
    "df2['DELINQ_flag'].value_counts()"
   ]
  },
  {
   "cell_type": "code",
   "execution_count": 78,
   "id": "dc66587a-2515-4494-be15-3f1850025812",
   "metadata": {},
   "outputs": [
    {
     "name": "stdout",
     "output_type": "stream",
     "text": [
      "test statistic : 165.70080480056967, p-value : 1.0435840050953625e-36\n",
      "상환 여부에 따라 불량건수에 차이가 있다.\n"
     ]
    }
   ],
   "source": [
    "contingency_table_del = pd.crosstab(df2['BAD'], df2['DELINQ_flag'])  \n",
    "chi2, p, dof, expected = stats.chi2_contingency(contingency_table_del)\n",
    "print('test statistic : {}, p-value : {}'.format(chi2, p))\n",
    "alpha = 0.05  # 유의수준 5%\n",
    "\n",
    "if p < alpha:\n",
    "    print(\"상환 여부에 따라 불량건수에 차이가 있다.\")\n",
    "else:\n",
    "    print(\"상환 여부에 따라 불량건수에 차이가 없다.\")"
   ]
  },
  {
   "cell_type": "code",
   "execution_count": 63,
   "id": "df25a294-ea4c-482a-a4c6-c2f0a8d21c28",
   "metadata": {},
   "outputs": [
    {
     "name": "stdout",
     "output_type": "stream",
     "text": [
      "대출액-sample t-test\n",
      "t:7.492577535599249\n",
      "p:8.58577307365949e-14\n",
      "상환 여부에 따라 최장 대출기간에 차이가 있다.\n"
     ]
    }
   ],
   "source": [
    "from scipy import stats\n",
    "BAD_L = df2[df2['BAD'] == 0]['CLAGE']   # 상환  \n",
    "good_L = df2[df2['BAD'] == 1]['CLAGE']  # 미상환 \n",
    "\n",
    "weight_result= stats.ttest_ind(BAD_L,good_L)\n",
    "t,p = weight_result.statistic, weight_result.pvalue\n",
    "print(\"대출액-sample t-test\")\n",
    "print(\"t:{}\".format(t))\n",
    "print(\"p:{}\".format(p))\n",
    "\n",
    "# 가설 검정\n",
    "alpha = 0.05  # 유의수준 5%\n",
    "\n",
    "if p < alpha:\n",
    "    print(\"상환 여부에 따라 최장 대출기간에 차이가 있다.\")\n",
    "else:\n",
    "    print(\"상환 여부에 따라 최장 대출기간에 차이가 없다.\")"
   ]
  },
  {
   "cell_type": "code",
   "execution_count": 79,
   "id": "d4b1785b-210f-47b8-8d0e-3aa4c0a3a8f1",
   "metadata": {},
   "outputs": [
    {
     "name": "stderr",
     "output_type": "stream",
     "text": [
      "C:\\Users\\dn011\\AppData\\Local\\Temp\\ipykernel_13640\\1066081133.py:1: SettingWithCopyWarning: \n",
      "A value is trying to be set on a copy of a slice from a DataFrame.\n",
      "Try using .loc[row_indexer,col_indexer] = value instead\n",
      "\n",
      "See the caveats in the documentation: https://pandas.pydata.org/pandas-docs/stable/user_guide/indexing.html#returning-a-view-versus-a-copy\n",
      "  df2['NINQ_flag'] = np.where(df2['NINQ'] == 0, 0, np.where(df2['NINQ'] == 1, 1, 2))\n"
     ]
    },
    {
     "data": {
      "text/plain": [
       "NINQ_flag\n",
       "0    1671\n",
       "2     872\n",
       "1     820\n",
       "Name: count, dtype: int64"
      ]
     },
     "execution_count": 79,
     "metadata": {},
     "output_type": "execute_result"
    }
   ],
   "source": [
    "df2['NINQ_flag'] = np.where(df2['NINQ'] == 0, 0, np.where(df2['NINQ'] == 1, 1, 2))  ##신용거래 요청  0건 ,1건 ,2건이상\n",
    "df2['NINQ_flag'].value_counts()"
   ]
  },
  {
   "cell_type": "code",
   "execution_count": 81,
   "id": "ff3c7fe1-ee89-42aa-904a-7d46d623f133",
   "metadata": {},
   "outputs": [
    {
     "name": "stdout",
     "output_type": "stream",
     "text": [
      "test statistic : 24.449992877028052, p-value : 4.906270689217428e-06\n",
      "상환 여부에 따라 최장 대출기간에 차이가 있다.\n"
     ]
    }
   ],
   "source": [
    "contingency_table_der = pd.crosstab(df2['BAD'], df2['NINQ_flag'])\n",
    "chi2, p, dof, expected = stats.chi2_contingency(contingency_table_der)\n",
    "print('test statistic : {}, p-value : {}'.format(chi2, p))\n",
    "# 가설 검정\n",
    "alpha = 0.05  # 유의수준 5%\n",
    "\n",
    "if p < alpha:\n",
    "    print(\"상환 여부에 따라 신용 거래 요청에 차이가 있다.\")\n",
    "else:\n",
    "    print(\"상환 여부에 따라 신용 거래 요청에 차이가 없다.\")"
   ]
  },
  {
   "cell_type": "code",
   "execution_count": 83,
   "id": "9d79729f-cff7-45d0-88e9-2b03d13df041",
   "metadata": {},
   "outputs": [
    {
     "name": "stdout",
     "output_type": "stream",
     "text": [
      "금융거래수 -sample t-test\n",
      "t:-0.5676697546861259\n",
      "p:0.5702971485482056\n",
      "상환 여부에 따라 금융거래수에 차이가 없다.\n"
     ]
    }
   ],
   "source": [
    "BAD_b = df2[df2['BAD'] == 0]['CLNO']   # 금융거래수  \n",
    "good_b = df2[df2['BAD'] == 1]['CLNO']  \n",
    "\n",
    "# 상환 여부에 따라서 금융거래수에 차이가 있는가\n",
    "# 귀무가설 : 상환 여부에 따라서 금융거래수에 차이가 없다 -> o\n",
    "# 대립가설 : 상환 여부에 따라서 금융거래수에 차이가 있다 -> \n",
    "\n",
    "weight_result= stats.ttest_ind(BAD_b,good_b)\n",
    "t,p = weight_result.statistic, weight_result.pvalue\n",
    "print(\"금융거래수 -sample t-test\")\n",
    "print(\"t:{}\".format(t))\n",
    "print(\"p:{}\".format(p))\n",
    "\n",
    "# 가설 검정\n",
    "alpha = 0.05  # 유의수준 5%\n",
    "\n",
    "if p < alpha:\n",
    "    print(\"상환 여부에 따라 금융거래수에 차이가 있다.\")\n",
    "else:\n",
    "    print(\"상환 여부에 따라 금융거래수에 차이가 없다.\")"
   ]
  },
  {
   "cell_type": "code",
   "execution_count": 84,
   "id": "5d9d9915-a4ac-4ddf-a33d-3550b0a13bed",
   "metadata": {},
   "outputs": [
    {
     "name": "stdout",
     "output_type": "stream",
     "text": [
      "DEBTINC -sample t-test\n",
      "t:-12.861367165100642\n",
      "p:5.458066175349914e-37\n",
      "상환 여부에 따라 대출금 수입 비율 차이가 있다.\n"
     ]
    }
   ],
   "source": [
    "BAD_b = df2[df2['BAD'] == 0]['DEBTINC']   # 대출금 대 수입 비율  \n",
    "good_b = df2[df2['BAD'] == 1]['DEBTINC']  \n",
    "\n",
    "# 상환 여부에 따라서 금융거래수에 차이가 있는가\n",
    "# 귀무가설 : 상환 여부에 따라서 대출금 대 수입 비율  차이가 없다 -> \n",
    "# 대립가설 : 상환 여부에 따라서 대출금 대 수입 비율 차이가 있다 -> o \n",
    "\n",
    "weight_result= stats.ttest_ind(BAD_b,good_b)\n",
    "t,p = weight_result.statistic, weight_result.pvalue\n",
    "print(\"DEBTINC -sample t-test\")\n",
    "print(\"t:{}\".format(t))\n",
    "print(\"p:{}\".format(p))\n",
    "\n",
    "# 가설 검정\n",
    "alpha = 0.05  # 유의수준 5%\n",
    "\n",
    "if p < alpha:\n",
    "    print(\"상환 여부에 따라 대출금 수입 비율 차이가 있다.\")\n",
    "else:\n",
    "    print(\"상환 여부에 따라 대출금 수입 비율 차이가 없다.\")"
   ]
  },
  {
   "cell_type": "code",
   "execution_count": 85,
   "id": "a6ad3514-d3fb-477d-b1c7-5bc45424655b",
   "metadata": {},
   "outputs": [],
   "source": [
    "# 차이가 있는것 => # 근무년수 /불량건수 / 채납횟수  / 상환여부 / 최장대출기간  / 대출금 대 수입 비율"
   ]
  },
  {
   "cell_type": "code",
   "execution_count": 93,
   "id": "5283d358-229c-4616-8003-3e82dbb67684",
   "metadata": {},
   "outputs": [
    {
     "data": {
      "text/plain": [
       "JOB\n",
       "Other      1286\n",
       "ProfExe     899\n",
       "Office      577\n",
       "Mgr         450\n",
       "Self         99\n",
       "Sales        53\n",
       "Name: count, dtype: int64"
      ]
     },
     "execution_count": 93,
     "metadata": {},
     "output_type": "execute_result"
    }
   ],
   "source": [
    "df1['JOB'].value_counts()"
   ]
  },
  {
   "cell_type": "code",
   "execution_count": 105,
   "id": "af1db283-ebd2-4331-9632-40b890d8201c",
   "metadata": {},
   "outputs": [
    {
     "name": "stderr",
     "output_type": "stream",
     "text": [
      "C:\\Users\\dn011\\AppData\\Local\\Temp\\ipykernel_13640\\3118603586.py:11: SettingWithCopyWarning: \n",
      "A value is trying to be set on a copy of a slice from a DataFrame.\n",
      "Try using .loc[row_indexer,col_indexer] = value instead\n",
      "\n",
      "See the caveats in the documentation: https://pandas.pydata.org/pandas-docs/stable/user_guide/indexing.html#returning-a-view-versus-a-copy\n",
      "  df2['JOB_Grade'] = df2['JOB'].apply(map_job_to_grade)\n"
     ]
    },
    {
     "data": {
      "text/plain": [
       "JOB_Grade\n",
       "사무직    1926\n",
       "판매업      99\n",
       "자영업      53\n",
       "Name: count, dtype: int64"
      ]
     },
     "execution_count": 105,
     "metadata": {},
     "output_type": "execute_result"
    }
   ],
   "source": [
    "# 직업을 3등급으로 분류 \n",
    "def map_job_to_grade(job):\n",
    "    if job in ['ProfExe', 'Mgr', 'Office']:\n",
    "        return '사무직'\n",
    "    elif job in ['Self', 'Sales']:\n",
    "        return '판매업' if job == 'Self' else '자영업'\n",
    "    else:\n",
    "        return None  # 'other'는 None으로 처리\n",
    "\n",
    "# 'JOB' 열을 등급으로 변환\n",
    "df2['JOB_Grade'] = df2['JOB'].apply(map_job_to_grade)\n",
    "\n",
    "# 결과 확인\n",
    "df2['JOB_Grade'].value_counts()"
   ]
  },
  {
   "cell_type": "code",
   "execution_count": 116,
   "id": "172f61ff-d98b-45ca-9e67-0e65b646e870",
   "metadata": {},
   "outputs": [
    {
     "data": {
      "image/png": "[encoded data removed]",
      "text/plain": [
       "<Figure size 800x600 with 1 Axes>"
      ]
     },
     "metadata": {},
     "output_type": "display_data"
    }
   ],
   "source": [
    "import matplotlib.pyplot as plt\n",
    "\n",
    "# JOB_Grade별 NINQ_flag 비율 계산\n",
    "ninq_flag_distribution = df2.groupby('JOB_Grade')['DELINQ_flag'].mean()  #불량건수\n",
    "\n",
    "# 파이 차트 그리기\n",
    "plt.figure(figsize=(8, 6))\n",
    "ninq_flag_distribution.plot(kind='pie', autopct='%1.1f%%', startangle=140, colors=['#ff9999','#66b3ff','#99ff99'])\n",
    "plt.title('DELINQ_flag Distribution by JOB_Grade')\n",
    "plt.ylabel('')  # y축 레이블 제거\n",
    "plt.show()\n",
    "\n",
    "# 불량거래수가 사무직에 많이 분포되어있으므로 사무직에 근무하는 사람에 대한 신용관리 정보 시스템을 제공한다"
   ]
  },
  {
   "cell_type": "code",
   "execution_count": 117,
   "id": "6f9ef059-3a4a-45bc-a0bf-4e82ebdb368b",
   "metadata": {},
   "outputs": [
    {
     "data": {
      "image/png": "[encoded data removed]",
      "text/plain": [
       "<Figure size 800x600 with 1 Axes>"
      ]
     },
     "metadata": {},
     "output_type": "display_data"
    }
   ],
   "source": [
    "import matplotlib.pyplot as plt\n",
    "\n",
    "# JOB_Grade별 NINQ_flag 비율 계산\n",
    "ninq_flag_distribution = df2.groupby('JOB_Grade')['CLAGE'].mean()  #체납횟수\n",
    "\n",
    "# 파이 차트 그리기\n",
    "plt.figure(figsize=(8, 6))\n",
    "ninq_flag_distribution.plot(kind='pie', autopct='%1.1f%%', startangle=140, colors=['#ff9999','#66b3ff','#99ff99'])\n",
    "plt.title('CLAGE Distribution by JOB_Grade')\n",
    "plt.ylabel('')  # y축 레이블 제거\n",
    "plt.show()\n",
    "\n",
    "# 각 직업들에 대한 체납횟수 관리가 필요하다 "
   ]
  },
  {
   "cell_type": "code",
   "execution_count": 118,
   "id": "188992b5-b54e-4b29-a7b3-e1e044d09032",
   "metadata": {},
   "outputs": [
    {
     "data": {
      "image/png": "[encoded data removed]",
      "text/plain": [
       "<Figure size 800x600 with 1 Axes>"
      ]
     },
     "metadata": {},
     "output_type": "display_data"
    }
   ],
   "source": [
    "import matplotlib.pyplot as plt\n",
    "\n",
    "# JOB_Grade별 NINQ_flag 비율 계산\n",
    "ninq_flag_distribution = df2.groupby('JOB_Grade')['NINQ_flag'].mean()  #최장 대출 기간\n",
    "\n",
    "# 파이 차트 그리기\n",
    "plt.figure(figsize=(8, 6))\n",
    "ninq_flag_distribution.plot(kind='pie', autopct='%1.1f%%', startangle=140, colors=['#ff9999','#66b3ff','#99ff99'])\n",
    "plt.title('NINQ_flag Distribution by JOB_Grade')\n",
    "plt.ylabel('')  # y축 레이블 제거\n",
    "plt.show()\n",
    "\n",
    "## 최장 대출 기간이 판매업이 많이 분포되어 있으므로 판매업에 대한 대출서비스에 대한 강화를 통해서 연쳬기간을 낮추는 방안을 고려해야한다"
   ]
  },
  {
   "cell_type": "code",
   "execution_count": null,
   "id": "214cb503-1b81-4263-9e99-cfa48a08e477",
   "metadata": {},
   "outputs": [],
   "source": []
  }
 ],
 "metadata": {
  "kernelspec": {
   "display_name": "Python 3 (ipykernel)",
   "language": "python",
   "name": "python3"
  },
  "language_info": {
   "codemirror_mode": {
    "name": "ipython",
    "version": 3
   },
   "file_extension": ".py",
   "mimetype": "text/x-python",
   "name": "python",
   "nbconvert_exporter": "python",
   "pygments_lexer": "ipython3",
   "version": "3.11.7"
  }
 },
 "nbformat": 4,
 "nbformat_minor": 5
}
