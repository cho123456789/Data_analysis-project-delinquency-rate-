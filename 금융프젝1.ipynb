{
 "cells": [
  {
   "cell_type": "code",
   "execution_count": 5,
   "id": "9221e1f7-215e-4541-8792-c03788ec6125",
   "metadata": {},
   "outputs": [],
   "source": [
    "import numpy as np\n",
    "from scipy import stats\n",
    "import pandas as pd\n",
    "import matplotlib.pyplot as plt\n",
    "import seaborn as sns\n",
    "from statsmodels.stats.proportion import proportions_ztest\n",
    "\n",
    "from sklearn.model_selection import train_test_split\n",
    "from statsmodels.api import qqplot,add_constant\n",
    "import statsmodels.formula.api as smf\n",
    "from statsmodels.tools.eval_measures import rmse\n",
    "from sklearn.metrics import r2_score \n",
    "from statsmodels.stats.outliers_influence import variance_inflation_factor\n",
    "\n",
    "import matplotlib\n",
    "matplotlib.rc('font',family = 'Malgun Gothic')\n",
    "matplotlib.rc('axes',unicode_minus = False)\n",
    "%matplotlib inline\n",
    "import warnings\n",
    "warnings.filterwarnings('ignore')\n",
    "\n",
    "matplotlib.rc(\"font\", family = \"Malgun Gothic\")\n",
    "matplotlib.rc(\"axes\",unicode_minus = False)\n",
    "import pandas as pd\n",
    "df1 = pd.read_csv('bank.csv')"
   ]
  },
  {
   "cell_type": "code",
   "execution_count": 6,
   "id": "8ac9de82-a718-45a7-8ce7-4f830da60d1e",
   "metadata": {},
   "outputs": [
    {
     "data": {
      "text/html": [
       "<div>\n",
       "<style scoped>\n",
       "    .dataframe tbody tr th:only-of-type {\n",
       "        vertical-align: middle;\n",
       "    }\n",
       "\n",
       "    .dataframe tbody tr th {\n",
       "        vertical-align: top;\n",
       "    }\n",
       "\n",
       "    .dataframe thead th {\n",
       "        text-align: right;\n",
       "    }\n",
       "</style>\n",
       "<table border=\"1\" class=\"dataframe\">\n",
       "  <thead>\n",
       "    <tr style=\"text-align: right;\">\n",
       "      <th></th>\n",
       "      <th>BAD</th>\n",
       "      <th>LOAN</th>\n",
       "      <th>MORTDUE</th>\n",
       "      <th>VALUE</th>\n",
       "      <th>REASON</th>\n",
       "      <th>JOB</th>\n",
       "      <th>YOJ</th>\n",
       "      <th>DEROG</th>\n",
       "      <th>DELINQ</th>\n",
       "      <th>CLAGE</th>\n",
       "      <th>NINQ</th>\n",
       "      <th>CLNO</th>\n",
       "      <th>DEBTINC</th>\n",
       "    </tr>\n",
       "  </thead>\n",
       "  <tbody>\n",
       "    <tr>\n",
       "      <th>0</th>\n",
       "      <td>1</td>\n",
       "      <td>1700</td>\n",
       "      <td>30548</td>\n",
       "      <td>40320.0</td>\n",
       "      <td>HomeImp</td>\n",
       "      <td>Other</td>\n",
       "      <td>9.0</td>\n",
       "      <td>0</td>\n",
       "      <td>0.0</td>\n",
       "      <td>101.466002</td>\n",
       "      <td>1.0</td>\n",
       "      <td>8</td>\n",
       "      <td>37.113614</td>\n",
       "    </tr>\n",
       "    <tr>\n",
       "      <th>1</th>\n",
       "      <td>1</td>\n",
       "      <td>1800</td>\n",
       "      <td>28502</td>\n",
       "      <td>43034.0</td>\n",
       "      <td>HomeImp</td>\n",
       "      <td>Other</td>\n",
       "      <td>11.0</td>\n",
       "      <td>0</td>\n",
       "      <td>0.0</td>\n",
       "      <td>88.766030</td>\n",
       "      <td>0.0</td>\n",
       "      <td>8</td>\n",
       "      <td>36.884894</td>\n",
       "    </tr>\n",
       "    <tr>\n",
       "      <th>2</th>\n",
       "      <td>0</td>\n",
       "      <td>2300</td>\n",
       "      <td>102370</td>\n",
       "      <td>120953.0</td>\n",
       "      <td>HomeImp</td>\n",
       "      <td>Office</td>\n",
       "      <td>2.0</td>\n",
       "      <td>0</td>\n",
       "      <td>0.0</td>\n",
       "      <td>90.992533</td>\n",
       "      <td>0.0</td>\n",
       "      <td>13</td>\n",
       "      <td>31.588503</td>\n",
       "    </tr>\n",
       "    <tr>\n",
       "      <th>3</th>\n",
       "      <td>1</td>\n",
       "      <td>2400</td>\n",
       "      <td>34863</td>\n",
       "      <td>47471.0</td>\n",
       "      <td>HomeImp</td>\n",
       "      <td>Mgr</td>\n",
       "      <td>12.0</td>\n",
       "      <td>0</td>\n",
       "      <td>0.0</td>\n",
       "      <td>70.491080</td>\n",
       "      <td>1.0</td>\n",
       "      <td>21</td>\n",
       "      <td>38.263601</td>\n",
       "    </tr>\n",
       "    <tr>\n",
       "      <th>4</th>\n",
       "      <td>0</td>\n",
       "      <td>2400</td>\n",
       "      <td>98449</td>\n",
       "      <td>117195.0</td>\n",
       "      <td>HomeImp</td>\n",
       "      <td>Office</td>\n",
       "      <td>4.0</td>\n",
       "      <td>0</td>\n",
       "      <td>0.0</td>\n",
       "      <td>93.811775</td>\n",
       "      <td>0.0</td>\n",
       "      <td>13</td>\n",
       "      <td>29.681827</td>\n",
       "    </tr>\n",
       "    <tr>\n",
       "      <th>...</th>\n",
       "      <td>...</td>\n",
       "      <td>...</td>\n",
       "      <td>...</td>\n",
       "      <td>...</td>\n",
       "      <td>...</td>\n",
       "      <td>...</td>\n",
       "      <td>...</td>\n",
       "      <td>...</td>\n",
       "      <td>...</td>\n",
       "      <td>...</td>\n",
       "      <td>...</td>\n",
       "      <td>...</td>\n",
       "      <td>...</td>\n",
       "    </tr>\n",
       "    <tr>\n",
       "      <th>3743</th>\n",
       "      <td>0</td>\n",
       "      <td>88900</td>\n",
       "      <td>57264</td>\n",
       "      <td>90185.0</td>\n",
       "      <td>DebtCon</td>\n",
       "      <td>Other</td>\n",
       "      <td>16.0</td>\n",
       "      <td>0</td>\n",
       "      <td>0.0</td>\n",
       "      <td>221.808718</td>\n",
       "      <td>0.0</td>\n",
       "      <td>16</td>\n",
       "      <td>36.112347</td>\n",
       "    </tr>\n",
       "    <tr>\n",
       "      <th>3744</th>\n",
       "      <td>0</td>\n",
       "      <td>89000</td>\n",
       "      <td>54576</td>\n",
       "      <td>92937.0</td>\n",
       "      <td>DebtCon</td>\n",
       "      <td>Other</td>\n",
       "      <td>16.0</td>\n",
       "      <td>0</td>\n",
       "      <td>0.0</td>\n",
       "      <td>208.692070</td>\n",
       "      <td>0.0</td>\n",
       "      <td>15</td>\n",
       "      <td>35.859971</td>\n",
       "    </tr>\n",
       "    <tr>\n",
       "      <th>3745</th>\n",
       "      <td>0</td>\n",
       "      <td>89200</td>\n",
       "      <td>54045</td>\n",
       "      <td>92924.0</td>\n",
       "      <td>DebtCon</td>\n",
       "      <td>Other</td>\n",
       "      <td>15.0</td>\n",
       "      <td>0</td>\n",
       "      <td>0.0</td>\n",
       "      <td>212.279697</td>\n",
       "      <td>0.0</td>\n",
       "      <td>15</td>\n",
       "      <td>35.556590</td>\n",
       "    </tr>\n",
       "    <tr>\n",
       "      <th>3746</th>\n",
       "      <td>0</td>\n",
       "      <td>89800</td>\n",
       "      <td>50370</td>\n",
       "      <td>91861.0</td>\n",
       "      <td>DebtCon</td>\n",
       "      <td>Other</td>\n",
       "      <td>14.0</td>\n",
       "      <td>0</td>\n",
       "      <td>0.0</td>\n",
       "      <td>213.892709</td>\n",
       "      <td>0.0</td>\n",
       "      <td>16</td>\n",
       "      <td>34.340882</td>\n",
       "    </tr>\n",
       "    <tr>\n",
       "      <th>3747</th>\n",
       "      <td>0</td>\n",
       "      <td>89900</td>\n",
       "      <td>48811</td>\n",
       "      <td>88934.0</td>\n",
       "      <td>DebtCon</td>\n",
       "      <td>Other</td>\n",
       "      <td>15.0</td>\n",
       "      <td>0</td>\n",
       "      <td>0.0</td>\n",
       "      <td>219.601002</td>\n",
       "      <td>0.0</td>\n",
       "      <td>16</td>\n",
       "      <td>34.571519</td>\n",
       "    </tr>\n",
       "  </tbody>\n",
       "</table>\n",
       "<p>3748 rows × 13 columns</p>\n",
       "</div>"
      ],
      "text/plain": [
       "      BAD   LOAN  MORTDUE     VALUE   REASON     JOB   YOJ  DEROG  DELINQ  \\\n",
       "0       1   1700    30548   40320.0  HomeImp   Other   9.0      0     0.0   \n",
       "1       1   1800    28502   43034.0  HomeImp   Other  11.0      0     0.0   \n",
       "2       0   2300   102370  120953.0  HomeImp  Office   2.0      0     0.0   \n",
       "3       1   2400    34863   47471.0  HomeImp     Mgr  12.0      0     0.0   \n",
       "4       0   2400    98449  117195.0  HomeImp  Office   4.0      0     0.0   \n",
       "...   ...    ...      ...       ...      ...     ...   ...    ...     ...   \n",
       "3743    0  88900    57264   90185.0  DebtCon   Other  16.0      0     0.0   \n",
       "3744    0  89000    54576   92937.0  DebtCon   Other  16.0      0     0.0   \n",
       "3745    0  89200    54045   92924.0  DebtCon   Other  15.0      0     0.0   \n",
       "3746    0  89800    50370   91861.0  DebtCon   Other  14.0      0     0.0   \n",
       "3747    0  89900    48811   88934.0  DebtCon   Other  15.0      0     0.0   \n",
       "\n",
       "           CLAGE  NINQ  CLNO    DEBTINC  \n",
       "0     101.466002   1.0     8  37.113614  \n",
       "1      88.766030   0.0     8  36.884894  \n",
       "2      90.992533   0.0    13  31.588503  \n",
       "3      70.491080   1.0    21  38.263601  \n",
       "4      93.811775   0.0    13  29.681827  \n",
       "...          ...   ...   ...        ...  \n",
       "3743  221.808718   0.0    16  36.112347  \n",
       "3744  208.692070   0.0    15  35.859971  \n",
       "3745  212.279697   0.0    15  35.556590  \n",
       "3746  213.892709   0.0    16  34.340882  \n",
       "3747  219.601002   0.0    16  34.571519  \n",
       "\n",
       "[3748 rows x 13 columns]"
      ]
     },
     "execution_count": 6,
     "metadata": {},
     "output_type": "execute_result"
    }
   ],
   "source": [
    "df1"
   ]
  },
  {
   "cell_type": "code",
   "execution_count": 7,
   "id": "1c76dd10-8686-4609-b1e1-43c34ee0341b",
   "metadata": {},
   "outputs": [],
   "source": [
    "# bad (y) : 대출상한 여부 0 상환 / 1 미상환\n",
    "# load : 총대출액 \n",
    "# mortdue : 저당액 \n",
    "# value : 재산액 \n",
    "# reason : debtcon(채무정리) , 주택개량(homeimp)\n",
    "# job : mgr( 노동자) , office (사무원) , 숙련기술사 (proexe) , 기타 (other), 판매원 (sales), 자영업 (self)\n",
    "# yoj : 직장근무년수\n",
    "# debtinc : 대출금 대 수입의 비율\n",
    "# delenq : 체납횟수\n",
    "# clage : 최장 대출기간 \n",
    "# minq : 최근 신용거래 요청 횟수 \n",
    "# clno : 신용거래 회수\n",
    "\n",
    "# 개선 사항 \n",
    "# 플랫폼 활용을 통한 접근성 강회\n",
    "# 상관계획 가이드라인 제시\n",
    "# 저 신용자대상 신용도 관리 교육 실시 \n",
    "\n",
    "# 고객분할 예씨 \n",
    "# 중저 - 가이드라인 \n",
    "# 고 - 알아서 잘함 "
   ]
  },
  {
   "cell_type": "code",
   "execution_count": 8,
   "id": "e944be74-c537-43f0-b51f-46a843d22001",
   "metadata": {},
   "outputs": [
    {
     "data": {
      "text/plain": [
       "BAD          0\n",
       "LOAN         0\n",
       "MORTDUE      0\n",
       "VALUE       14\n",
       "REASON       0\n",
       "JOB         81\n",
       "YOJ        205\n",
       "DEROG        0\n",
       "DELINQ      30\n",
       "CLAGE       37\n",
       "NINQ        56\n",
       "CLNO         0\n",
       "DEBTINC      0\n",
       "dtype: int64"
      ]
     },
     "execution_count": 8,
     "metadata": {},
     "output_type": "execute_result"
    }
   ],
   "source": [
    "df1.isnull().sum()"
   ]
  },
  {
   "cell_type": "code",
   "execution_count": 9,
   "id": "2da0d3a3-3e54-41dd-be7a-8b367d2cca13",
   "metadata": {},
   "outputs": [],
   "source": [
    "df2 = df1.dropna()"
   ]
  },
  {
   "cell_type": "code",
   "execution_count": 10,
   "id": "c9519a6c-0ae5-4372-9ee9-767044efd76e",
   "metadata": {},
   "outputs": [
    {
     "data": {
      "text/plain": [
       "BAD        0\n",
       "LOAN       0\n",
       "MORTDUE    0\n",
       "VALUE      0\n",
       "REASON     0\n",
       "JOB        0\n",
       "YOJ        0\n",
       "DEROG      0\n",
       "DELINQ     0\n",
       "CLAGE      0\n",
       "NINQ       0\n",
       "CLNO       0\n",
       "DEBTINC    0\n",
       "dtype: int64"
      ]
     },
     "execution_count": 10,
     "metadata": {},
     "output_type": "execute_result"
    }
   ],
   "source": [
    "df2.isnull().sum()"
   ]
  },
  {
   "cell_type": "code",
   "execution_count": 11,
   "id": "acb99177-150b-4b4e-8c1f-46556dd693f7",
   "metadata": {},
   "outputs": [
    {
     "data": {
      "image/png": "[encoded data removed]",
      "text/plain": [
       "<Figure size 640x480 with 1 Axes>"
      ]
     },
     "metadata": {},
     "output_type": "display_data"
    }
   ],
   "source": [
    "import seaborn as sns\n",
    "sns.boxplot(x='BAD', y = \"LOAN\",data = df2)\n",
    "plt.show()"
   ]
  },
  {
   "cell_type": "code",
   "execution_count": 12,
   "id": "3d5fe467-729e-4485-856b-73f1e08d8f8c",
   "metadata": {},
   "outputs": [
    {
     "name": "stdout",
     "output_type": "stream",
     "text": [
      "대출액-sample t-test\n",
      "t:1.8107903090158013\n",
      "p:0.07026254176612239\n"
     ]
    }
   ],
   "source": [
    "BAD_L = df2[df2['BAD'] == 0]['LOAN']   # 상환  \n",
    "good_L = df2[df2['BAD'] == 1]['LOAN']  # 미상환 \n",
    "\n",
    "# 상환 여부에 따라서 대출액이 차이가 있는가\n",
    "# 귀무가설 : 상환 여부에 따라서 대출액이 차이가 없다 -> 귀무가설 참 => 상환 여부에 따라서 대출액이 차이가 없다\n",
    "# 대립가설 : 상환 여부에 따라서 대출액이 차이가 있다 \n",
    "\n",
    "weight_result= stats.ttest_ind(BAD_L,good_L)\n",
    "t,p = weight_result.statistic, weight_result.pvalue\n",
    "print(\"대출액-sample t-test\")\n",
    "print(\"t:{}\".format(t))\n",
    "print(\"p:{}\".format(p))"
   ]
  },
  {
   "cell_type": "code",
   "execution_count": 13,
   "id": "cae74a90-8dbb-440f-bddb-adee0f54bc4d",
   "metadata": {},
   "outputs": [
    {
     "data": {
      "image/png": "[encoded data removed]",
      "text/plain": [
       "<Figure size 640x480 with 1 Axes>"
      ]
     },
     "metadata": {},
     "output_type": "display_data"
    }
   ],
   "source": [
    "import seaborn as sns\n",
    "sns.boxplot(x='BAD', y = \"MORTDUE\",data = df2)\n",
    "plt.show()"
   ]
  },
  {
   "cell_type": "code",
   "execution_count": 51,
   "id": "eae35e48-0366-43c5-83d8-a35262045d13",
   "metadata": {},
   "outputs": [
    {
     "name": "stdout",
     "output_type": "stream",
     "text": [
      "저당금액-sample t-test\n",
      "t:0.9598857102123596\n",
      "p:0.337181764200601\n"
     ]
    }
   ],
   "source": [
    "BAD_M = df2[df2['BAD'] == 0]['MORTDUE']   # 저당금액\n",
    "good_M = df2[df2['BAD'] == 1]['MORTDUE'] \n",
    "\n",
    "# 상환 여부에 따라서 저당금액 차이가 있는가\n",
    "# 귀무가설 : 상환 여부에 저당금액  차이가 없다 -> 귀무가설 참 => o \n",
    "# 대립가설 : 상환 여부에 저당금액  차이가 있다 \n",
    "\n",
    "weight_result= stats.ttest_ind(BAD_M,good_M)\n",
    "t,p = weight_result.statistic, weight_result.pvalue\n",
    "print(\"저당금액-sample t-test\")\n",
    "print(\"t:{}\".format(t))\n",
    "print(\"p:{}\".format(p))"
   ]
  },
  {
   "cell_type": "code",
   "execution_count": 14,
   "id": "e372fcc3-b597-4306-915d-fe30b105a4c4",
   "metadata": {},
   "outputs": [
    {
     "data": {
      "image/png": "[encoded data removed]",
      "text/plain": [
       "<Figure size 640x480 with 1 Axes>"
      ]
     },
     "metadata": {},
     "output_type": "display_data"
    }
   ],
   "source": [
    "sns.boxplot(x='BAD', y = \"VALUE\",data = df2)\n",
    "plt.show()"
   ]
  },
  {
   "cell_type": "code",
   "execution_count": 15,
   "id": "3c881cdb-4081-48d0-8832-a739fcdb0aa8",
   "metadata": {},
   "outputs": [
    {
     "name": "stdout",
     "output_type": "stream",
     "text": [
      "자산금액 -sample t-test\n",
      "t:1.5205382836316168\n",
      "p:0.12846978142805315\n"
     ]
    }
   ],
   "source": [
    "BAD_V = df2[df2['BAD'] == 0]['VALUE']   # 자산금액  \n",
    "good_V = df2[df2['BAD'] == 1]['VALUE']  \n",
    "\n",
    "# 상환 여부에 따라서 자산금액 차이가 있는가\n",
    "# 귀무가설 : 상환 여부에 따라서 자산금액 차이가 없다 -> 귀무가설 참 => 상환 여부에 따라서 자신금액이 차이가 없다\n",
    "# 대립가설 : 상환 여부에 따라서 자산금액 차이가 있다 \n",
    "\n",
    "weight_result= stats.ttest_ind(BAD_V,good_V)\n",
    "t,p = weight_result.statistic, weight_result.pvalue\n",
    "print(\"자산금액 -sample t-test\")\n",
    "print(\"t:{}\".format(t))\n",
    "print(\"p:{}\".format(p))"
   ]
  },
  {
   "cell_type": "code",
   "execution_count": 16,
   "id": "852eb09a-103e-4b7e-999a-e8fa7b357e97",
   "metadata": {},
   "outputs": [
    {
     "data": {
      "image/png": "[encoded data removed]",
      "text/plain": [
       "<Figure size 640x480 with 1 Axes>"
      ]
     },
     "metadata": {},
     "output_type": "display_data"
    }
   ],
   "source": [
    "sns.boxplot(x='BAD', y = \"YOJ\",data = df2)\n",
    "plt.show()"
   ]
  },
  {
   "cell_type": "code",
   "execution_count": 17,
   "id": "454be700-b1f8-4e14-b4cf-b3f560abd16d",
   "metadata": {},
   "outputs": [
    {
     "name": "stdout",
     "output_type": "stream",
     "text": [
      "근무년수 -sample t-test\n",
      "t:3.7347961327294983\n",
      "p:0.00019098363769161364\n"
     ]
    }
   ],
   "source": [
    "BAD_Y = df2[df2['BAD'] == 0]['YOJ']   # 근무년수  \n",
    "good_Y = df2[df2['BAD'] == 1]['YOJ']  \n",
    "\n",
    "# 상환 여부에 따라서 저당금액에 차이가 있는가\n",
    "# 귀무가설 : 상환 여부에 따라서 근무년수에 차이가 없다 -> \n",
    "# 대립가설 : 상환 여부에 따라서 근무년수에 차이가 있다 -> O \n",
    "\n",
    "weight_result= stats.ttest_ind(BAD_Y,good_Y)\n",
    "t,p = weight_result.statistic, weight_result.pvalue\n",
    "print(\"근무년수 -sample t-test\")\n",
    "print(\"t:{}\".format(t))\n",
    "print(\"p:{}\".format(p))"
   ]
  },
  {
   "cell_type": "code",
   "execution_count": 18,
   "id": "7587bc8e-b51b-4e2d-91f8-1e39e31fb75f",
   "metadata": {},
   "outputs": [
    {
     "data": {
      "image/png": "[encoded data removed]",
      "text/plain": [
       "<Figure size 640x480 with 1 Axes>"
      ]
     },
     "metadata": {},
     "output_type": "display_data"
    }
   ],
   "source": [
    "sns.boxplot(x='BAD', y = \"DEROG\",data = df2)  # 불량거래 보고수 \n",
    "plt.show()"
   ]
  },
  {
   "cell_type": "code",
   "execution_count": 19,
   "id": "2e64d5b7-825c-4652-bd54-bd54a6cb777d",
   "metadata": {},
   "outputs": [
    {
     "name": "stdout",
     "output_type": "stream",
     "text": [
      "불량거래수 -sample t-test\n",
      "t:-15.20846573781338\n",
      "p:1.4426102363515305e-50\n"
     ]
    }
   ],
   "source": [
    "BAD_Y = df2[df2['BAD'] == 0]['DEROG']   # 불량거래수  \n",
    "good_Y = df2[df2['BAD'] == 1]['DEROG']  \n",
    "\n",
    "# 상환 여부에 따라서 불량거래수 차이가 있는가\n",
    "# 귀무가설 : 상환 여부에 따라서 불량거래수 차이가 없다 -> \n",
    "# 대립가설 : 상환 여부에 따라서 불량거래수 차이가 있다 -> O \n",
    "\n",
    "weight_result= stats.ttest_ind(BAD_Y,good_Y)\n",
    "t,p = weight_result.statistic, weight_result.pvalue\n",
    "print(\"불량거래수 -sample t-test\")\n",
    "print(\"t:{}\".format(t))\n",
    "print(\"p:{}\".format(p))"
   ]
  },
  {
   "cell_type": "code",
   "execution_count": 20,
   "id": "f359f74c-dc58-42f4-af78-ada70e6860ff",
   "metadata": {},
   "outputs": [
    {
     "data": {
      "text/plain": [
       "DEROG\n",
       "0     3052\n",
       "1      200\n",
       "2       79\n",
       "3       22\n",
       "4        3\n",
       "6        2\n",
       "7        2\n",
       "5        1\n",
       "8        1\n",
       "10       1\n",
       "9        1\n",
       "Name: count, dtype: int64"
      ]
     },
     "execution_count": 20,
     "metadata": {},
     "output_type": "execute_result"
    }
   ],
   "source": [
    "df2['DEROG'].value_counts()"
   ]
  },
  {
   "cell_type": "code",
   "execution_count": 21,
   "id": "86a3bfa2-7350-492c-80e1-0f96d28337ef",
   "metadata": {},
   "outputs": [],
   "source": [
    "df2['DEROG_flag'] = np.where(df2['DEROG'] == 0, 0, np.where(df2['DEROG'] == 1, 1, 2))"
   ]
  },
  {
   "cell_type": "code",
   "execution_count": 22,
   "id": "1aaaf66a-6860-4a20-ada3-801ed56c9598",
   "metadata": {},
   "outputs": [
    {
     "data": {
      "text/plain": [
       "DEROG_flag\n",
       "0    3052\n",
       "1     200\n",
       "2     112\n",
       "Name: count, dtype: int64"
      ]
     },
     "execution_count": 22,
     "metadata": {},
     "output_type": "execute_result"
    }
   ],
   "source": [
    "df2['DEROG_flag'].value_counts()"
   ]
  },
  {
   "cell_type": "code",
   "execution_count": 23,
   "id": "2d7d3f0e-d3ca-4b54-a5b2-1bfd65f05da6",
   "metadata": {},
   "outputs": [
    {
     "name": "stdout",
     "output_type": "stream",
     "text": [
      "test statistic : 165.05799218215853, p-value : 1.439171004804811e-36\n"
     ]
    }
   ],
   "source": [
    "# 상환 여부에 따라서 불량거래수간의 차이가 있는가\n",
    "# 귀무가설 : 상환 여부에 따라서 불량거래수간의 차이가 없다 \n",
    "# 대립가설 : 상환 여부에 따라서 불량거래수간의 차이가 있다 -> o \n",
    "contingency_table_der = pd.crosstab(df2['BAD'], df2['DEROG_flag'])\n",
    "chi2, p, dof, expected = stats.chi2_contingency(contingency_table_der)\n",
    "print('test statistic : {}, p-value : {}'.format(chi2, p))"
   ]
  },
  {
   "cell_type": "code",
   "execution_count": 26,
   "id": "a84727a2-a7b3-48bf-b0b7-ad66025ad458",
   "metadata": {},
   "outputs": [],
   "source": [
    "df2['DELINQ_flag'] = np.where(df2['DELINQ'] == 0, 0, np.where(df2['DELINQ'] == 1, 1, 2))"
   ]
  },
  {
   "cell_type": "code",
   "execution_count": 28,
   "id": "f3c5683e-901d-41c8-94f5-3decbcda526b",
   "metadata": {},
   "outputs": [
    {
     "data": {
      "text/plain": [
       "DELINQ_flag\n",
       "0    2824\n",
       "1     324\n",
       "2     216\n",
       "Name: count, dtype: int64"
      ]
     },
     "execution_count": 28,
     "metadata": {},
     "output_type": "execute_result"
    }
   ],
   "source": [
    "df2['DELINQ_flag'].value_counts()"
   ]
  },
  {
   "cell_type": "code",
   "execution_count": 29,
   "id": "4bfb0814-de14-4342-9ae4-bd8cb60e0f60",
   "metadata": {},
   "outputs": [
    {
     "name": "stdout",
     "output_type": "stream",
     "text": [
      "test statistic : 164.74077673432274, p-value : 1.6865330643331933e-36\n"
     ]
    }
   ],
   "source": [
    "# 상환 여부에 따라서 채납횟수에 차이가 있는가\n",
    "# 귀무가설 : 상환 여부에 따라서 채납횟수에 차이가 없다 \n",
    "# 대립가설 : 상환 여부에 따라서 채납횟수에 차이가 있다 -> o \n",
    "contingency_table_del = pd.crosstab(df2['BAD'], df2['DELINQ_flag'])  \n",
    "chi2, p, dof, expected = stats.chi2_contingency(contingency_table_del)\n",
    "print('test statistic : {}, p-value : {}'.format(chi2, p))"
   ]
  },
  {
   "cell_type": "code",
   "execution_count": 41,
   "id": "c84fbe4b-54e0-4f21-8256-f91bc7926277",
   "metadata": {},
   "outputs": [
    {
     "data": {
      "image/png": "[encoded data removed]",
      "text/plain": [
       "<Figure size 640x480 with 1 Axes>"
      ]
     },
     "metadata": {},
     "output_type": "display_data"
    }
   ],
   "source": [
    "sns.boxplot(x='BAD', y = \"CLAGE\",data = df2)  # 최장대출기간  \n",
    "df2.drop(df2[df2['CLAGE'] > 1000].index)\n",
    "plt.show()"
   ]
  },
  {
   "cell_type": "code",
   "execution_count": 42,
   "id": "7e3c849e-94b8-40d5-8dcc-8c26bdd7f1d4",
   "metadata": {},
   "outputs": [
    {
     "name": "stdout",
     "output_type": "stream",
     "text": [
      "최장대출기간 -sample t-test\n",
      "t:6.64783598711819\n",
      "p:3.457200823193547e-11\n"
     ]
    }
   ],
   "source": [
    "BAD_b = df2[df2['BAD'] == 0]['CLAGE']   # 최장대출기간  \n",
    "good_b = df2[df2['BAD'] == 1]['CLAGE']  \n",
    "\n",
    "# 상환 여부에 따라서 최장대출기간에 차이가 있는가\n",
    "# 귀무가설 : 상환 여부에 따라서 최장대출기간에 차이가 없다 -> \n",
    "# 대립가설 : 상환 여부에 따라서 최장대출기간에 차이가 있다 -> O \n",
    "\n",
    "weight_result= stats.ttest_ind(BAD_b,good_b)\n",
    "t,p = weight_result.statistic, weight_result.pvalue\n",
    "print(\"최장대출기간 -sample t-test\")\n",
    "print(\"t:{}\".format(t))\n",
    "print(\"p:{}\".format(p))"
   ]
  },
  {
   "cell_type": "code",
   "execution_count": 43,
   "id": "7b6658e5-d7fe-4f74-bc2e-4bbc0d09a4c5",
   "metadata": {},
   "outputs": [
    {
     "data": {
      "text/plain": [
       "NINQ_flag\n",
       "0    1672\n",
       "2     872\n",
       "1     820\n",
       "Name: count, dtype: int64"
      ]
     },
     "execution_count": 43,
     "metadata": {},
     "output_type": "execute_result"
    }
   ],
   "source": [
    "df2['NINQ_flag'] = np.where(df2['NINQ'] == 0, 0, np.where(df2['NINQ'] == 1, 1, 2))\n",
    "df2['NINQ_flag'].value_counts()"
   ]
  },
  {
   "cell_type": "code",
   "execution_count": 44,
   "id": "44a5a0da-99ac-4ba0-9d07-7e722a39f297",
   "metadata": {},
   "outputs": [
    {
     "name": "stdout",
     "output_type": "stream",
     "text": [
      "test statistic : 24.121849912338774, p-value : 5.781051588108365e-06\n"
     ]
    }
   ],
   "source": [
    "# 상환 여부에 따라서 최근 신용도 차이가 있는가  #최근 신용도\n",
    "# 귀무가설 : 상환 여부에 따라서 최근 신용도 차이가 없다 \n",
    "# 대립가설 : 상환 여부에 따라서 최근 신용도 차이가 있다 -> o\n",
    "contingency_table_der = pd.crosstab(df2['BAD'], df2['NINQ_flag'])\n",
    "chi2, p, dof, expected = stats.chi2_contingency(contingency_table_der)\n",
    "print('test statistic : {}, p-value : {}'.format(chi2, p))"
   ]
  },
  {
   "cell_type": "code",
   "execution_count": 45,
   "id": "34e80edf-6c6e-4987-a311-bf165cefd1bb",
   "metadata": {},
   "outputs": [
    {
     "data": {
      "image/png": "[encoded data removed]",
      "text/plain": [
       "<Figure size 640x480 with 1 Axes>"
      ]
     },
     "metadata": {},
     "output_type": "display_data"
    }
   ],
   "source": [
    "sns.boxplot(x='BAD', y = \"CLNO\",data = df2)  # 금융 거래수 \n",
    "plt.show()"
   ]
  },
  {
   "cell_type": "code",
   "execution_count": 46,
   "id": "78437436-ae9b-42d2-ac58-4c486b8db1f4",
   "metadata": {},
   "outputs": [
    {
     "name": "stdout",
     "output_type": "stream",
     "text": [
      "금융거래수 -sample t-test\n",
      "t:-0.4365865225906162\n",
      "p:0.6624392742916825\n"
     ]
    }
   ],
   "source": [
    "BAD_b = df2[df2['BAD'] == 0]['CLNO']   # 금융거래수  \n",
    "good_b = df2[df2['BAD'] == 1]['CLNO']  \n",
    "\n",
    "# 상환 여부에 따라서 금융거래수에 차이가 있는가\n",
    "# 귀무가설 : 상환 여부에 따라서 금융거래수에 차이가 없다 -> o\n",
    "# 대립가설 : 상환 여부에 따라서 금융거래수에 차이가 있다 -> \n",
    "\n",
    "weight_result= stats.ttest_ind(BAD_b,good_b)\n",
    "t,p = weight_result.statistic, weight_result.pvalue\n",
    "print(\"금융거래수 -sample t-test\")\n",
    "print(\"t:{}\".format(t))\n",
    "print(\"p:{}\".format(p))"
   ]
  },
  {
   "cell_type": "code",
   "execution_count": 47,
   "id": "5c4554c6-b4e7-40c1-b464-7739cdee5809",
   "metadata": {},
   "outputs": [
    {
     "data": {
      "image/png": "[encoded data removed]",
      "text/plain": [
       "<Figure size 640x480 with 1 Axes>"
      ]
     },
     "metadata": {},
     "output_type": "display_data"
    }
   ],
   "source": [
    "sns.boxplot(x='BAD', y = \"DEBTINC\",data = df2)   # 대출금 대 수입 비율\n",
    "plt.show()"
   ]
  },
  {
   "cell_type": "code",
   "execution_count": 48,
   "id": "8ea21211-239b-43ab-982a-bb9378863505",
   "metadata": {},
   "outputs": [
    {
     "name": "stdout",
     "output_type": "stream",
     "text": [
      "DEBTINC -sample t-test\n",
      "t:-12.886823506349744\n",
      "p:3.984168740725602e-37\n"
     ]
    }
   ],
   "source": [
    "BAD_b = df2[df2['BAD'] == 0]['DEBTINC']   # 대출금 대 수입 비율  \n",
    "good_b = df2[df2['BAD'] == 1]['DEBTINC']  \n",
    "\n",
    "# 상환 여부에 따라서 금융거래수에 차이가 있는가\n",
    "# 귀무가설 : 상환 여부에 따라서 대출금 대 수입 비율  차이가 없다 -> \n",
    "# 대립가설 : 상환 여부에 따라서 대출금 대 수입 비율 차이가 있다 -> o \n",
    "\n",
    "weight_result= stats.ttest_ind(BAD_b,good_b)\n",
    "t,p = weight_result.statistic, weight_result.pvalue\n",
    "print(\"DEBTINC -sample t-test\")\n",
    "print(\"t:{}\".format(t))\n",
    "print(\"p:{}\".format(p))"
   ]
  },
  {
   "cell_type": "code",
   "execution_count": 49,
   "id": "62128c8d-9227-4ad6-92e6-d15f5313f28c",
   "metadata": {},
   "outputs": [],
   "source": [
    "# 대출금 상환여부에 따라서 차이가 있는것\n",
    "# 근무년수   /불량거래수 / 채납횟수  / 최장대출기간 /최근 신용도 차이  / 금융거래수 / 대출금 대 수입 비율"
   ]
  },
  {
   "cell_type": "code",
   "execution_count": null,
   "id": "86cd6ed0-a660-4ff8-a209-a6e799ce8671",
   "metadata": {},
   "outputs": [],
   "source": []
  }
 ],
 "metadata": {
  "kernelspec": {
   "display_name": "Python 3 (ipykernel)",
   "language": "python",
   "name": "python3"
  },
  "language_info": {
   "codemirror_mode": {
    "name": "ipython",
    "version": 3
   },
   "file_extension": ".py",
   "mimetype": "text/x-python",
   "name": "python",
   "nbconvert_exporter": "python",
   "pygments_lexer": "ipython3",
   "version": "3.11.7"
  }
 },
 "nbformat": 4,
 "nbformat_minor": 5
}
